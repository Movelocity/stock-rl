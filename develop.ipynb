{
 "cells": [
  {
   "cell_type": "code",
   "execution_count": null,
   "metadata": {},
   "outputs": [],
   "source": [
    "import time\n",
    "import random\n",
    "import numpy as np\n",
    "import random\n",
    "import matplotlib.pyplot as plt\n",
    "import torch\n",
    "from agent_dqn import Agent\n",
    "from game_env import EmulatorEnv\n",
    "from tqdm import tqdm\n",
    "\n",
    "env = EmulatorEnv(initial_money=100000, end_day=500)\n",
    "\n",
    "def play(env:EmulatorEnv, agent:Agent):\n",
    "    state, reward, done = env.reset()\n",
    "    asset_trace, reward_trace = [], []\n",
    "\n",
    "    while not done:\n",
    "        action = agent.act(state)\n",
    "        next_state, reward, done = env.step(action)\n",
    "        asset_trace.append(env.asset)\n",
    "        reward_trace.append(reward)\n",
    "        agent.step(state, action, reward, next_state, done)\n",
    "        state = next_state\n",
    "    return asset_trace, reward_trace\n",
    "\n",
    "config = {\n",
    "    'device': torch.device(\"cuda:0\" if torch.cuda.is_available() else \"cpu\"),\n",
    "}\n",
    "agent = Agent(stock_cnt=512, config=config)\n",
    "\n",
    "final_assets = []"
   ]
  },
  {
   "cell_type": "code",
   "execution_count": null,
   "metadata": {},
   "outputs": [],
   "source": [
    "def plots(asset_trace, reward_trace):\n",
    "    # plt.figure(figsize=(15, 3))\n",
    "    fig, axs = plt.subplots(1, 3, figsize=(12, 3))\n",
    "\n",
    "    # Plot on the first subplot\n",
    "    axs[0].plot(asset_trace)\n",
    "    axs[0].set_title('asset')\n",
    "\n",
    "    # Plot on the second subplot\n",
    "    axs[1].plot(reward_trace)\n",
    "    axs[1].set_title('reward')\n",
    "\n",
    "    # Plot on the third subplot\n",
    "    axs[2].plot(final_assets)\n",
    "    axs[2].set_title('assets left at epoch')\n",
    "\n",
    "    plt.tight_layout()\n",
    "    plt.show()"
   ]
  },
  {
   "cell_type": "code",
   "execution_count": null,
   "metadata": {},
   "outputs": [],
   "source": [
    "for _ in tqdm(range(20)):\n",
    "    asset_trace, reward_trace = play(env, agent)\n",
    "    final_assets.append(asset_trace[-2])\n",
    "plots(asset_trace, reward_trace)"
   ]
  }
 ],
 "metadata": {
  "language_info": {
   "name": "python"
  }
 },
 "nbformat": 4,
 "nbformat_minor": 2
}
